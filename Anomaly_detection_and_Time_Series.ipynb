{
  "nbformat": 4,
  "nbformat_minor": 0,
  "metadata": {
    "colab": {
      "provenance": []
    },
    "kernelspec": {
      "name": "python3",
      "display_name": "Python 3"
    },
    "language_info": {
      "name": "python"
    }
  },
  "cells": [
    {
      "cell_type": "markdown",
      "source": [
        "# Anomaly detection and Time Series"
      ],
      "metadata": {
        "id": "zy6fbWJbyoOg"
      }
    },
    {
      "cell_type": "markdown",
      "source": [
        "## Question 1: What is Dimensionality Reduction? Why is it important in machine learning?\n",
        "\n",
        "**Answer:**\n",
        "- **Dimensionality Reduction** is the process of **reducing the number of features (variables) in a dataset** while retaining as much important information as possible.\n",
        "- **Importance in Machine Learning:**\n",
        "  - **Reduces computational cost:** Fewer features mean faster training and prediction.\n",
        "  - **Helps in data visualization:** Allows plotting high-dimensional data in 2D or 3D.\n",
        "  - **Removes redundant or irrelevant features:** Improves model performance and accuracy.\n",
        "  - **Prevents overfitting:** Simpler models generalize better to new data.\n",
        "  - **Enhances interpretability:** Easier to understand and explain model behavior.\n",
        "- **Common Techniques:**\n",
        "  - **Principal Component Analysis (PCA):** Projects data onto fewer dimensions while preserving variance.\n",
        "  - **t-Distributed Stochastic Neighbor Embedding (t-SNE):** Useful for visualizing complex high-dimensional data.\n",
        "  - **Linear Discriminant Analysis (LDA):** Reduces dimensions while preserving class separability.\n",
        "- **Real-world Example:**\n",
        "  - In image recognition, a dataset may have thousands of pixels per image. Dimensionality reduction helps reduce features while keeping important patterns, improving model speed and accuracy.\n",
        "- **Trade-off:**\n",
        "  - While reducing dimensions, some information may be lost. The key is to retain **most significant features** for effective modeling.\n",
        "\n",
        "## Question 2: Name and briefly describe three common dimensionality reduction techniques.\n",
        "\n",
        "**Answer:**\n",
        "- **Principal Component Analysis (PCA):**\n",
        "  - **Definition:** A technique that transforms the data into a new set of variables called **principal components**, which are uncorrelated and capture the maximum variance in the data.\n",
        "  - **Use:** Reduces dimensions while preserving as much information as possible.\n",
        "  - **Example:** In image processing, PCA can reduce thousands of pixel features to a few principal components without losing significant details.\n",
        "\n",
        "- **t-Distributed Stochastic Neighbor Embedding (t-SNE):**\n",
        "  - **Definition:** A non-linear technique mainly used for **visualizing high-dimensional data** in 2D or 3D.\n",
        "  - **Use:** Preserves local structure and patterns, making it useful for clustering and visual representation.\n",
        "  - **Example:** Visualizing customer segments in a marketing dataset.\n",
        "\n",
        "- **Linear Discriminant Analysis (LDA):**\n",
        "  - **Definition:** A technique that reduces dimensions by finding a **linear combination of features** that best separates different classes.\n",
        "  - **Use:** Enhances class separability, often applied in supervised learning scenarios.\n",
        "  - **Example:** Face recognition, where LDA separates images of different people effectively.\n",
        "\n",
        "## Question 3: What is clustering in unsupervised learning? Mention three popular clustering algorithms.\n",
        "\n",
        "**Answer:**\n",
        "- **Clustering in Unsupervised Learning:**\n",
        "  - **Definition:** Clustering is the process of **grouping similar data points together** based on certain features, **without using labeled data**.\n",
        "  - **Purpose:** To discover hidden patterns, structures, or relationships in the data.\n",
        "\n",
        "- **Three Popular Clustering Algorithms:**\n",
        "  - **K-Means Clustering:**\n",
        "    - Partitions data into **k clusters** by minimizing the distance between points and the cluster centroids.\n",
        "    - **Use:** Customer segmentation, market analysis.\n",
        "\n",
        "  - **Hierarchical Clustering:**\n",
        "    - Builds a **tree-like structure (dendrogram)** of clusters by either merging or splitting them iteratively.\n",
        "    - **Use:** Gene expression analysis, hierarchical data grouping.\n",
        "\n",
        "  - **DBSCAN (Density-Based Spatial Clustering of Applications with Noise):**\n",
        "    - Groups data points that are **closely packed** together, marking low-density points as **outliers**.\n",
        "    - **Use:** Anomaly detection, spatial data analysis.\n",
        "\n",
        "## Question 4: Explain the concept of anomaly detection and its significance.\n",
        "\n",
        "**Answer:**\n",
        "- **Anomaly Detection:**\n",
        "  - **Definition:** Anomaly detection is the process of **identifying unusual or rare patterns** in data that do not conform to expected behavior.\n",
        "  - **Purpose:** To detect **outliers, errors, or unusual events** in datasets.\n",
        "\n",
        "- **Significance in Machine Learning:**\n",
        "  - **Fraud Detection:** Identify fraudulent transactions in banking and finance.\n",
        "  - **Fault Detection:** Detect equipment failures or system malfunctions in industries.\n",
        "  - **Network Security:** Recognize abnormal network activity or cyber attacks.\n",
        "  - **Quality Control:** Monitor manufacturing processes for defects.\n",
        "  - **Data Cleaning:** Detect and handle erroneous or inconsistent data points.\n",
        "\n",
        "## Question 5: List and briefly describe three types of anomaly detection techniques.\n",
        "\n",
        "**Answer:**\n",
        "- **Statistical Methods:**\n",
        "  - **Definition:** Detect anomalies by assuming that data follows a **specific statistical distribution** (e.g., Gaussian) and flagging points that deviate significantly.\n",
        "  - **Use:** Detect outliers in finance, sensor readings, or quality control.\n",
        "  - **Example:** Z-score method to identify points far from the mean.\n",
        "\n",
        "- **Distance-Based Methods:**\n",
        "  - **Definition:** Identify anomalies based on **distance metrics**; points far from their neighbors are considered anomalies.\n",
        "  - **Use:** Useful when the data distribution is unknown.\n",
        "  - **Example:** k-Nearest Neighbors (k-NN) for anomaly detection.\n",
        "\n",
        "- **Machine Learning-Based Methods:**\n",
        "  - **Definition:** Use **unsupervised or supervised ML models** to learn normal patterns and detect deviations.\n",
        "  - **Use:** Detect complex anomalies in high-dimensional datasets.\n",
        "  - **Example:** Isolation Forest, Autoencoders.\n",
        "\n",
        "## Question 6: What is time series analysis? Mention two key components of time series data.\n",
        "\n",
        "**Answer:**\n",
        "- **Time Series Analysis:**\n",
        "  - **Definition:** Time series analysis is the process of **analyzing data points collected or recorded at specific time intervals** to identify patterns, trends, and seasonal variations.\n",
        "  - **Purpose:** To **forecast future values**, detect anomalies, and understand temporal patterns in data.\n",
        "\n",
        "- **Two Key Components of Time Series Data:**\n",
        "  - **Trend:**\n",
        "    - Represents the **long-term increase or decrease** in the data over time.\n",
        "    - Example: Increasing sales over multiple years.\n",
        "\n",
        "  - **Seasonality:**\n",
        "    - Refers to **repeating patterns or cycles** at regular intervals, such as daily, monthly, or yearly.\n",
        "    - Example: Higher ice cream sales every summer.\n",
        "\n",
        "## Question 7: Describe the difference between seasonality and cyclic behavior in time series.\n",
        "\n",
        "**Answer:**\n",
        "- **Seasonality:**\n",
        "  - Refers to **regular and repeating patterns** in time series data that occur at **fixed intervals** (e.g., daily, weekly, monthly, yearly).\n",
        "  - **Predictable:** The pattern repeats consistently.\n",
        "  - **Example:** Increased ice cream sales every summer, higher electricity usage in winters.\n",
        "\n",
        "- **Cyclic Behavior:**\n",
        "  - Refers to **fluctuations in data** that occur over **irregular, non-fixed periods**, often influenced by economic or business cycles.\n",
        "  - **Less predictable:** The duration of cycles can vary.\n",
        "  - **Example:** Economic boom and recession cycles affecting stock market trends.\n",
        "\n",
        "- **Key Difference:**\n",
        "  - **Seasonality** = fixed, predictable intervals.  \n",
        "  - **Cyclic** = irregular, unpredictable intervals.\n",
        "  \n",
        "                  "
      ],
      "metadata": {
        "id": "pY60Tyw10Ocd"
      }
    },
    {
      "cell_type": "markdown",
      "source": [
        "# Question 8: Write Python code to perform K-means clustering on a sample dataset.\n",
        "(Include your Python code and output in the code box below.)"
      ],
      "metadata": {
        "id": "nM-Kn7vm4RLu"
      }
    },
    {
      "cell_type": "code",
      "source": [
        "# Import required libraries\n",
        "import pandas as pd\n",
        "import numpy as np\n",
        "import matplotlib.pyplot as plt\n",
        "from sklearn.cluster import KMeans\n",
        "\n",
        "# Create a sample dataset\n",
        "data = {\n",
        "    'Feature1': [5, 10, 15, 24, 30, 45, 50, 55, 60, 70],\n",
        "    'Feature2': [10, 20, 25, 30, 40, 50, 60, 65, 70, 80]\n",
        "}\n",
        "df = pd.DataFrame(data)\n",
        "\n",
        "# Apply K-means clustering\n",
        "kmeans = KMeans(n_clusters=3, random_state=42)\n",
        "df['Cluster'] = kmeans.fit_predict(df)\n",
        "\n",
        "# Plot the clusters\n",
        "plt.figure(figsize=(8,6))\n",
        "plt.scatter(df['Feature1'], df['Feature2'], c=df['Cluster'], cmap='rainbow', s=100)\n",
        "plt.scatter(kmeans.cluster_centers_[:,0], kmeans.cluster_centers_[:,1], color='black', s=200, marker='X')\n",
        "plt.title('K-means Clustering (Fresh Dataset)')\n",
        "plt.xlabel('Feature1')\n",
        "plt.ylabel('Feature2')\n",
        "plt.show()\n"
      ],
      "metadata": {
        "colab": {
          "base_uri": "https://localhost:8080/",
          "height": 564
        },
        "id": "Mc0NXmaV4OgI",
        "outputId": "4139e3ee-5196-44ba-b5bd-84a046285502"
      },
      "execution_count": 1,
      "outputs": [
        {
          "output_type": "display_data",
          "data": {
            "text/plain": [
              "<Figure size 800x600 with 1 Axes>"
            ],
            "image/png": "[encoded data removed]"
          },
          "metadata": {}
        }
      ]
    },
    {
      "cell_type": "markdown",
      "source": [
        "# Question 9: What is inheritance in OOP? Provide a simple example in Python."
      ],
      "metadata": {
        "id": "SlY7rgn65ftP"
      }
    },
    {
      "cell_type": "code",
      "source": [
        "# Parent class\n",
        "class Vehicle:\n",
        "    def __init__(self, brand, model):\n",
        "        self.brand = brand\n",
        "        self.model = model\n",
        "\n",
        "    def display_info(self):\n",
        "        print(f\"Brand: {self.brand}, Model: {self.model}\")\n",
        "\n",
        "# Child class inheriting from Vehicle\n",
        "class Car(Vehicle):\n",
        "    def __init__(self, brand, model, doors):\n",
        "        super().__init__(brand, model)  # Inherit attributes from parent\n",
        "        self.doors = doors\n",
        "\n",
        "    def car_info(self):\n",
        "        print(f\"{self.brand} {self.model} has {self.doors} doors.\")\n",
        "\n",
        "# Create object of child class\n",
        "my_car = Car(\"Toyota\", \"Corolla\", 4)\n",
        "my_car.display_info()\n",
        "my_car.car_info()\n"
      ],
      "metadata": {
        "colab": {
          "base_uri": "https://localhost:8080/"
        },
        "id": "jGqT7XRW5m1z",
        "outputId": "db3549cf-2a0f-4b69-b200-6d692db38f58"
      },
      "execution_count": 2,
      "outputs": [
        {
          "output_type": "stream",
          "name": "stdout",
          "text": [
            "Brand: Toyota, Model: Corolla\n",
            "Toyota Corolla has 4 doors.\n"
          ]
        }
      ]
    },
    {
      "cell_type": "markdown",
      "source": [
        "## Question 10: How can time series analysis be used for anomaly detection?\n",
        "\n",
        "**Answer:**\n",
        "- **Time Series for Anomaly Detection:**\n",
        "  - Time series analysis involves **examining data points collected over time** to detect unusual patterns or deviations from expected behavior.\n",
        "  - **Purpose:** To identify anomalies such as spikes, drops, or irregular patterns that may indicate errors, fraud, or system issues.\n",
        "\n",
        "- **Methods:**\n",
        "  - **Statistical Methods:** Detect anomalies using thresholds or deviations from historical trends.\n",
        "  - **Moving Averages:** Compare current values to rolling averages to spot unusual deviations.\n",
        "  - **Forecasting Models:** Use ARIMA, Prophet, or other models to **predict expected values** and flag points that deviate significantly.\n",
        "  - **Machine Learning Methods:** Use supervised or unsupervised ML algorithms on time-dependent features to detect anomalies.\n",
        "\n",
        "- **Applications:**\n",
        "  - **Financial Transactions:** Detect fraudulent activities.\n",
        "  - **Network Monitoring:** Identify unusual traffic spikes.\n",
        "  - **Industrial Sensors:** Detect machine failures or abnormal readings."
      ],
      "metadata": {
        "id": "sukhkMax6HKU"
      }
    }
  ]
}